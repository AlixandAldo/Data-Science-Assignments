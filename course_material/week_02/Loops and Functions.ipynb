{
 "cells": [
  {
   "cell_type": "markdown",
   "metadata": {},
   "source": [
    "# Loops and Functions\n"
   ]
  },
  {
   "cell_type": "code",
   "execution_count": 4,
   "metadata": {},
   "outputs": [
    {
     "name": "stdout",
     "output_type": "stream",
     "text": [
      "b is greater\n"
     ]
    }
   ],
   "source": [
    "# if... elif...else\n",
    "# if a equals b, return \"they are equal\", if a >b return \"a is greater\", and if b>a return \"b is greater\"\n",
    "a = 2\n",
    "b = 3\n",
    "\n",
    "#what happens if you do if a>=b instead of the elif line?\n",
    "if a==b:\n",
    "    print(\"they are equal\")\n",
    "elif a>b:\n",
    "    print(\"a is greater\")\n",
    "#elif b>a:\n",
    "else:\n",
    "    print(\"b is greater\")"
   ]
  },
  {
   "cell_type": "code",
   "execution_count": 6,
   "metadata": {},
   "outputs": [
    {
     "name": "stdout",
     "output_type": "stream",
     "text": [
      "7\n",
      "6\n"
     ]
    }
   ],
   "source": [
    "# while loops\n",
    "# repeatedly testing an expression and continuing to run what happens in the loop until a condition is met\n",
    "x = 7\n",
    "while x > 5:\n",
    "    print(x)\n",
    "    #x= x -1\n",
    "    x-=1"
   ]
  },
  {
   "cell_type": "code",
   "execution_count": 7,
   "metadata": {},
   "outputs": [
    {
     "name": "stdout",
     "output_type": "stream",
     "text": [
      "3\n",
      "4\n",
      "5\n",
      "6\n",
      "7\n",
      "8\n",
      "9\n"
     ]
    }
   ],
   "source": [
    "#Create a scenaio where x starts at 3 and is incremented, and you print the value of x while x is less than 10\n",
    "x = 3\n",
    "while x < 10:\n",
    "    print(x)\n",
    "    x+=1"
   ]
  },
  {
   "cell_type": "code",
   "execution_count": 8,
   "metadata": {},
   "outputs": [
    {
     "name": "stdout",
     "output_type": "stream",
     "text": [
      "Dexter\n",
      "Frank\n",
      "Tigger\n",
      "Panda\n",
      "Penguin\n",
      "Basil\n"
     ]
    }
   ],
   "source": [
    "# for loops\n",
    "cats = ['Dexter','Frank','Tigger','Panda','Penguin','Basil']\n",
    "for cat in cats:\n",
    "    print(cat)"
   ]
  },
  {
   "cell_type": "code",
   "execution_count": 19,
   "metadata": {},
   "outputs": [
    {
     "name": "stdout",
     "output_type": "stream",
     "text": [
      "0\n",
      "1\n",
      "2\n",
      "3\n",
      "4\n",
      "5\n",
      "6\n",
      "7\n",
      "8\n",
      "9\n",
      "10\n",
      "11\n",
      "12\n",
      "13\n",
      "14\n"
     ]
    }
   ],
   "source": [
    "#https://docs.python.org/3/library/functions.html#func-range\n",
    "#range(start, stop[,step])\n",
    "#the start value is inclusive BUT the stop value is not\n",
    "\n",
    "#for r in range(0,10,2):\n",
    "for r in range(1,20):\n",
    "    print(r)"
   ]
  },
  {
   "cell_type": "code",
   "execution_count": 18,
   "metadata": {},
   "outputs": [
    {
     "name": "stdout",
     "output_type": "stream",
     "text": [
      "b is greater\n",
      "a is greater\n"
     ]
    }
   ],
   "source": [
    "# functions\n",
    "# functions let us encapsulate chunks of code that we might want to\n",
    "#use again\n",
    "\n",
    "def comparing(a,b):\n",
    "    if a==b:\n",
    "        print(\"they are equal\")\n",
    "    elif a>b:\n",
    "        print(\"a is greater\")\n",
    "    #elif b>a:\n",
    "    else:\n",
    "        print(\"b is greater\")\n",
    "\n",
    "comparing(7,10)\n",
    "comparing(12,10)"
   ]
  },
  {
   "cell_type": "code",
   "execution_count": null,
   "metadata": {},
   "outputs": [],
   "source": []
  }
 ],
 "metadata": {
  "kernelspec": {
   "display_name": "Python 3",
   "language": "python",
   "name": "python3"
  },
  "language_info": {
   "codemirror_mode": {
    "name": "ipython",
    "version": 3
   },
   "file_extension": ".py",
   "mimetype": "text/x-python",
   "name": "python",
   "nbconvert_exporter": "python",
   "pygments_lexer": "ipython3",
   "version": "3.8.3"
  }
 },
 "nbformat": 4,
 "nbformat_minor": 4
}
