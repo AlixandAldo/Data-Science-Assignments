{
 "cells": [
  {
   "cell_type": "markdown",
   "metadata": {},
   "source": [
    "# Basic Statistics in Python + Some Other Useful Tools\n",
    "\n",
    "This workbook shows some fundamental statistical concepts that are important in exploratory data analysis. It is critical you have a solid understanding of these concepts before we get into data science concepts."
   ]
  },
  {
   "cell_type": "code",
   "execution_count": 2,
   "metadata": {},
   "outputs": [],
   "source": [
    "#the usual modules (but they have some stats functions)\n",
    "import numpy as np\n",
    "import pandas as pd\n",
    "\n",
    "#modules used for statistics\n",
    "import math\n",
    "import statistics\n",
    "from scipy import stats"
   ]
  },
  {
   "cell_type": "markdown",
   "metadata": {},
   "source": [
    "# Mean, Median, Mode, and Central Tendency \n",
    "\n",
    "Mean = sum of all numbers / total number of values, balance point\n",
    "- there are three types of means commonly used to understand data, but we are only talking about the arithmetic mean here. Feel free to look up harmonic and geometric means if you're interested.\n",
    "\n",
    "Median = middle number, outliers and skewed data have a smaller impact on median\n",
    "\n",
    "Mode = number that occurs most often\n"
   ]
  },
  {
   "cell_type": "code",
   "execution_count": 49,
   "metadata": {},
   "outputs": [
    {
     "data": {
      "text/html": [
       "<div>\n",
       "<style scoped>\n",
       "    .dataframe tbody tr th:only-of-type {\n",
       "        vertical-align: middle;\n",
       "    }\n",
       "\n",
       "    .dataframe tbody tr th {\n",
       "        vertical-align: top;\n",
       "    }\n",
       "\n",
       "    .dataframe thead th {\n",
       "        text-align: right;\n",
       "    }\n",
       "</style>\n",
       "<table border=\"1\" class=\"dataframe\">\n",
       "  <thead>\n",
       "    <tr style=\"text-align: right;\">\n",
       "      <th></th>\n",
       "      <th>id</th>\n",
       "      <th>name</th>\n",
       "      <th>host_id</th>\n",
       "      <th>host_name</th>\n",
       "      <th>neighbourhood_group</th>\n",
       "      <th>neighbourhood</th>\n",
       "      <th>latitude</th>\n",
       "      <th>longitude</th>\n",
       "      <th>room_type</th>\n",
       "      <th>price</th>\n",
       "      <th>minimum_nights</th>\n",
       "      <th>number_of_reviews</th>\n",
       "      <th>last_review</th>\n",
       "      <th>reviews_per_month</th>\n",
       "      <th>calculated_host_listings_count</th>\n",
       "      <th>availability_365</th>\n",
       "    </tr>\n",
       "  </thead>\n",
       "  <tbody>\n",
       "    <tr>\n",
       "      <th>0</th>\n",
       "      <td>36666</td>\n",
       "      <td>Mo's Cozy Casa w/ veranda &amp; access to dock</td>\n",
       "      <td>157752</td>\n",
       "      <td>Monique</td>\n",
       "      <td>Belize</td>\n",
       "      <td>Belize Islands</td>\n",
       "      <td>17.74786</td>\n",
       "      <td>-88.02398</td>\n",
       "      <td>Entire home/apt</td>\n",
       "      <td>141</td>\n",
       "      <td>3</td>\n",
       "      <td>250</td>\n",
       "      <td>2/23/2021</td>\n",
       "      <td>2.00</td>\n",
       "      <td>5</td>\n",
       "      <td>225</td>\n",
       "    </tr>\n",
       "    <tr>\n",
       "      <th>1</th>\n",
       "      <td>36690</td>\n",
       "      <td>Mo's Cozy Cabana w/ comfy veranda &amp; access to ...</td>\n",
       "      <td>157752</td>\n",
       "      <td>Monique</td>\n",
       "      <td>Belize</td>\n",
       "      <td>Belize Islands</td>\n",
       "      <td>17.74832</td>\n",
       "      <td>-88.02474</td>\n",
       "      <td>Entire home/apt</td>\n",
       "      <td>71</td>\n",
       "      <td>3</td>\n",
       "      <td>316</td>\n",
       "      <td>2/19/2021</td>\n",
       "      <td>2.46</td>\n",
       "      <td>5</td>\n",
       "      <td>164</td>\n",
       "    </tr>\n",
       "    <tr>\n",
       "      <th>2</th>\n",
       "      <td>108932</td>\n",
       "      <td>Purple House eco solar  w/ ocean &amp; wildlife views</td>\n",
       "      <td>563377</td>\n",
       "      <td>Michael</td>\n",
       "      <td>Belize</td>\n",
       "      <td>Belize Islands</td>\n",
       "      <td>17.73221</td>\n",
       "      <td>-88.03824</td>\n",
       "      <td>Entire home/apt</td>\n",
       "      <td>191</td>\n",
       "      <td>2</td>\n",
       "      <td>30</td>\n",
       "      <td>3/14/2020</td>\n",
       "      <td>0.78</td>\n",
       "      <td>1</td>\n",
       "      <td>364</td>\n",
       "    </tr>\n",
       "    <tr>\n",
       "      <th>3</th>\n",
       "      <td>110483</td>\n",
       "      <td>Michelo's fuchsia suite</td>\n",
       "      <td>567809</td>\n",
       "      <td>Michel</td>\n",
       "      <td>Stann Creek</td>\n",
       "      <td>Stann Creek Mainland</td>\n",
       "      <td>16.52114</td>\n",
       "      <td>-88.36926</td>\n",
       "      <td>Hotel room</td>\n",
       "      <td>121</td>\n",
       "      <td>1</td>\n",
       "      <td>27</td>\n",
       "      <td>2/24/2020</td>\n",
       "      <td>0.29</td>\n",
       "      <td>3</td>\n",
       "      <td>331</td>\n",
       "    </tr>\n",
       "    <tr>\n",
       "      <th>4</th>\n",
       "      <td>120115</td>\n",
       "      <td>Seaside Villas Second Floor Unit  #4</td>\n",
       "      <td>604999</td>\n",
       "      <td>Bobbi</td>\n",
       "      <td>Belize</td>\n",
       "      <td>Belize Islands</td>\n",
       "      <td>17.74166</td>\n",
       "      <td>-88.02395</td>\n",
       "      <td>Entire home/apt</td>\n",
       "      <td>343</td>\n",
       "      <td>1</td>\n",
       "      <td>30</td>\n",
       "      <td>3/18/2020</td>\n",
       "      <td>0.64</td>\n",
       "      <td>22</td>\n",
       "      <td>203</td>\n",
       "    </tr>\n",
       "  </tbody>\n",
       "</table>\n",
       "</div>"
      ],
      "text/plain": [
       "       id                                               name  host_id  \\\n",
       "0   36666         Mo's Cozy Casa w/ veranda & access to dock   157752   \n",
       "1   36690  Mo's Cozy Cabana w/ comfy veranda & access to ...   157752   \n",
       "2  108932  Purple House eco solar  w/ ocean & wildlife views   563377   \n",
       "3  110483                            Michelo's fuchsia suite   567809   \n",
       "4  120115               Seaside Villas Second Floor Unit  #4   604999   \n",
       "\n",
       "  host_name neighbourhood_group         neighbourhood  latitude  longitude  \\\n",
       "0   Monique              Belize        Belize Islands  17.74786  -88.02398   \n",
       "1   Monique              Belize        Belize Islands  17.74832  -88.02474   \n",
       "2   Michael              Belize        Belize Islands  17.73221  -88.03824   \n",
       "3    Michel         Stann Creek  Stann Creek Mainland  16.52114  -88.36926   \n",
       "4     Bobbi              Belize        Belize Islands  17.74166  -88.02395   \n",
       "\n",
       "         room_type  price  minimum_nights  number_of_reviews last_review  \\\n",
       "0  Entire home/apt    141               3                250   2/23/2021   \n",
       "1  Entire home/apt     71               3                316   2/19/2021   \n",
       "2  Entire home/apt    191               2                 30   3/14/2020   \n",
       "3       Hotel room    121               1                 27   2/24/2020   \n",
       "4  Entire home/apt    343               1                 30   3/18/2020   \n",
       "\n",
       "   reviews_per_month  calculated_host_listings_count  availability_365  \n",
       "0               2.00                               5               225  \n",
       "1               2.46                               5               164  \n",
       "2               0.78                               1               364  \n",
       "3               0.29                               3               331  \n",
       "4               0.64                              22               203  "
      ]
     },
     "execution_count": 49,
     "metadata": {},
     "output_type": "execute_result"
    }
   ],
   "source": [
    "belize_listings_path = \"belize_airbnb_listings.csv\"\n",
    "belize_df = pd.read_csv(belize_listings_path)\n",
    "belize_df.head()"
   ]
  },
  {
   "cell_type": "code",
   "execution_count": 10,
   "metadata": {},
   "outputs": [
    {
     "data": {
      "text/plain": [
       "price                357.102289\n",
       "minimum_nights         2.263948\n",
       "number_of_reviews     14.453505\n",
       "reviews_per_month      0.538088\n",
       "dtype: float64"
      ]
     },
     "execution_count": 10,
     "metadata": {},
     "output_type": "execute_result"
    }
   ],
   "source": [
    "belize_df[[\"price\",\"minimum_nights\",\"number_of_reviews\",\"reviews_per_month\"]].mean()"
   ]
  },
  {
   "cell_type": "code",
   "execution_count": 11,
   "metadata": {},
   "outputs": [
    {
     "data": {
      "text/plain": [
       "price                220.000\n",
       "minimum_nights         2.000\n",
       "number_of_reviews      2.000\n",
       "reviews_per_month      0.275\n",
       "dtype: float64"
      ]
     },
     "execution_count": 11,
     "metadata": {},
     "output_type": "execute_result"
    }
   ],
   "source": [
    "belize_df[[\"price\",\"minimum_nights\",\"number_of_reviews\",\"reviews_per_month\"]].median()"
   ]
  },
  {
   "cell_type": "code",
   "execution_count": 12,
   "metadata": {},
   "outputs": [
    {
     "data": {
      "text/html": [
       "<div>\n",
       "<style scoped>\n",
       "    .dataframe tbody tr th:only-of-type {\n",
       "        vertical-align: middle;\n",
       "    }\n",
       "\n",
       "    .dataframe tbody tr th {\n",
       "        vertical-align: top;\n",
       "    }\n",
       "\n",
       "    .dataframe thead th {\n",
       "        text-align: right;\n",
       "    }\n",
       "</style>\n",
       "<table border=\"1\" class=\"dataframe\">\n",
       "  <thead>\n",
       "    <tr style=\"text-align: right;\">\n",
       "      <th></th>\n",
       "      <th>price</th>\n",
       "      <th>minimum_nights</th>\n",
       "      <th>number_of_reviews</th>\n",
       "      <th>reviews_per_month</th>\n",
       "    </tr>\n",
       "  </thead>\n",
       "  <tbody>\n",
       "    <tr>\n",
       "      <th>0</th>\n",
       "      <td>151</td>\n",
       "      <td>1.0</td>\n",
       "      <td>0.0</td>\n",
       "      <td>0.08</td>\n",
       "    </tr>\n",
       "    <tr>\n",
       "      <th>1</th>\n",
       "      <td>252</td>\n",
       "      <td>NaN</td>\n",
       "      <td>NaN</td>\n",
       "      <td>NaN</td>\n",
       "    </tr>\n",
       "  </tbody>\n",
       "</table>\n",
       "</div>"
      ],
      "text/plain": [
       "   price  minimum_nights  number_of_reviews  reviews_per_month\n",
       "0    151             1.0                0.0               0.08\n",
       "1    252             NaN                NaN                NaN"
      ]
     },
     "execution_count": 12,
     "metadata": {},
     "output_type": "execute_result"
    }
   ],
   "source": [
    "belize_df[[\"price\",\"minimum_nights\",\"number_of_reviews\",\"reviews_per_month\"]].mode()"
   ]
  },
  {
   "cell_type": "code",
   "execution_count": 16,
   "metadata": {},
   "outputs": [
    {
     "data": {
      "text/plain": [
       "Text(0, 0.5, 'Frequency')"
      ]
     },
     "execution_count": 16,
     "metadata": {},
     "output_type": "execute_result"
    },
    {
     "data": {
      "image/png": "[encoded data removed]",
      "text/plain": [
       "<Figure size 432x288 with 1 Axes>"
      ]
     },
     "metadata": {
      "needs_background": "light"
     },
     "output_type": "display_data"
    }
   ],
   "source": [
    "import matplotlib.pyplot as plt\n",
    "n_bins = 10\n",
    "min_val, max_val = belize_df['price'].min(), belize_df['price'].max()\n",
    "\n",
    "n,bins,patches = plt.hist(x=belize_df['price'],bins='auto')\n",
    "plt.xlabel('Price')\n",
    "plt.ylabel('Frequency')"
   ]
  },
  {
   "cell_type": "markdown",
   "metadata": {},
   "source": [
    "# Variance \n",
    "\n",
    "Variance measure how dispersed the data points are from the mean. Low variance means the data points are pretty similar whereas high indicates they're more widely spread out from the mean.\n",
    "\n",
    "Variance is weird to interpret. With the price example, its basically like saying the data points are, on average, x square dollars away from the mean.  \n",
    "\n",
    "A variance of 0 means that all data is the same."
   ]
  },
  {
   "cell_type": "code",
   "execution_count": 43,
   "metadata": {},
   "outputs": [],
   "source": [
    "#function for variance\n",
    "def variance(data, ddof=0):\n",
    "    n = len(data)\n",
    "    mean = sum(data) / n\n",
    "    return sum((x - mean) ** 2 for x in data) / (n - ddof)"
   ]
  },
  {
   "cell_type": "code",
   "execution_count": 25,
   "metadata": {},
   "outputs": [
    {
     "data": {
      "text/plain": [
       "316996.1526270922"
      ]
     },
     "execution_count": 25,
     "metadata": {},
     "output_type": "execute_result"
    }
   ],
   "source": [
    "#population variance \n",
    "variance(belize_df['price'])"
   ]
  },
  {
   "cell_type": "code",
   "execution_count": 45,
   "metadata": {},
   "outputs": [
    {
     "data": {
      "text/plain": [
       "317109.56806631474"
      ]
     },
     "execution_count": 45,
     "metadata": {},
     "output_type": "execute_result"
    }
   ],
   "source": [
    "#sample variance\n",
    "variance(belize_df['price'],ddof=1)"
   ]
  },
  {
   "cell_type": "code",
   "execution_count": 46,
   "metadata": {},
   "outputs": [
    {
     "data": {
      "text/plain": [
       "316996.15262709244"
      ]
     },
     "execution_count": 46,
     "metadata": {},
     "output_type": "execute_result"
    }
   ],
   "source": [
    "#population variance\n",
    "statistics.pvariance(belize_df['price'])"
   ]
  },
  {
   "cell_type": "code",
   "execution_count": 47,
   "metadata": {},
   "outputs": [
    {
     "data": {
      "text/plain": [
       "317109.568066315"
      ]
     },
     "execution_count": 47,
     "metadata": {},
     "output_type": "execute_result"
    }
   ],
   "source": [
    "#sample variance\n",
    "statistics.variance(belize_df['price'])"
   ]
  },
  {
   "cell_type": "markdown",
   "metadata": {},
   "source": [
    "# Standard Deviation \n",
    "\n",
    "Standard deviation is the squareroot of the variance. Population and sample standard deviation are calculated the same, but the variance they are derived from is different. "
   ]
  },
  {
   "cell_type": "code",
   "execution_count": 38,
   "metadata": {},
   "outputs": [
    {
     "data": {
      "text/plain": [
       "563.0241137172478"
      ]
     },
     "execution_count": 38,
     "metadata": {},
     "output_type": "execute_result"
    }
   ],
   "source": [
    "#population standard deviation\n",
    "statistics.pstdev(belize_df['price'])"
   ]
  },
  {
   "cell_type": "code",
   "execution_count": 39,
   "metadata": {},
   "outputs": [
    {
     "data": {
      "text/plain": [
       "563.1248245871558"
      ]
     },
     "execution_count": 39,
     "metadata": {},
     "output_type": "execute_result"
    }
   ],
   "source": [
    "#sample standard deviation\n",
    "statistics.stdev(belize_df['price'])"
   ]
  },
  {
   "cell_type": "markdown",
   "metadata": {},
   "source": [
    "# Covariance and Correlation\n",
    "\n",
    "Covariance tells how much and to what existent two random variables change together. It is important to note that it does NOT indicate the dependency between variables. Think of it as answering the question: how much will one variable changes as another variable changes. \n",
    "\n",
    "Positive = move in the same direction\n",
    "\n",
    "Negative = move in opposite directions\n",
    "\n",
    "Correlation tells us how strong the relationship is between variables. \n",
    "\n",
    "correlation = Covariance(X,Y)/((standard deviation of X)(Standard deviation of Y))\n",
    "\n",
    "There is a lot to this topic. https://realpython.com/numpy-scipy-pandas-correlation-python/ Sheds some light on different correlation coefficient types. "
   ]
  },
  {
   "cell_type": "code",
   "execution_count": 48,
   "metadata": {},
   "outputs": [],
   "source": [
    "def covariance(x, y):\n",
    "    # calculating the means\n",
    "    mean_x = sum(x)/float(len(x))\n",
    "    mean_y = sum(y)/float(len(y))\n",
    "    # subtract mean from each value in each row\n",
    "    sub_x = [i - mean_x for i in x]\n",
    "    sub_y = [i - mean_y for i in y]\n",
    "    numerator = sum([sub_x[i]*sub_y[i] for i in range(len(sub_x))])\n",
    "    denominator = len(x)-1\n",
    "    cov = numerator/denominator\n",
    "    return cov"
   ]
  },
  {
   "cell_type": "code",
   "execution_count": 58,
   "metadata": {},
   "outputs": [
    {
     "data": {
      "text/plain": [
       "-59.87012215252558"
      ]
     },
     "execution_count": 58,
     "metadata": {},
     "output_type": "execute_result"
    }
   ],
   "source": [
    "cov_reviews_availability= covariance(belize_df['number_of_reviews'],belize_df['availability_365'])\n",
    "cov_reviews_availability\n",
    "#how is the number of reviews correlated with availability 365?"
   ]
  },
  {
   "cell_type": "code",
   "execution_count": 61,
   "metadata": {},
   "outputs": [
    {
     "data": {
      "text/plain": [
       "-0.009598754324347423"
      ]
     },
     "execution_count": 61,
     "metadata": {},
     "output_type": "execute_result"
    }
   ],
   "source": [
    "#calculating correlation by hand\n",
    "cov_reviews_availability/(statistics.stdev(belize_df['number_of_reviews'])*statistics.stdev(belize_df['availability_365']))"
   ]
  },
  {
   "cell_type": "code",
   "execution_count": 53,
   "metadata": {},
   "outputs": [
    {
     "data": {
      "text/plain": [
       "array([[  919.77350828,   -59.87012215],\n",
       "       [  -59.87012215, 14548.61315654]])"
      ]
     },
     "execution_count": 53,
     "metadata": {},
     "output_type": "execute_result"
    }
   ],
   "source": [
    "np.cov(belize_df['number_of_reviews'],belize_df['availability_365'])"
   ]
  },
  {
   "cell_type": "code",
   "execution_count": 62,
   "metadata": {},
   "outputs": [
    {
     "data": {
      "text/plain": [
       "array([[1.        , 0.17275503],\n",
       "       [0.17275503, 1.        ]])"
      ]
     },
     "execution_count": 62,
     "metadata": {},
     "output_type": "execute_result"
    }
   ],
   "source": [
    "np.corrcoef(belize_df['calculated_host_listings_count'],belize_df['availability_365'])"
   ]
  },
  {
   "cell_type": "markdown",
   "metadata": {},
   "source": [
    "# Aggregate Function"
   ]
  },
  {
   "cell_type": "code",
   "execution_count": 52,
   "metadata": {},
   "outputs": [
    {
     "data": {
      "text/html": [
       "<div>\n",
       "<style scoped>\n",
       "    .dataframe tbody tr th:only-of-type {\n",
       "        vertical-align: middle;\n",
       "    }\n",
       "\n",
       "    .dataframe tbody tr th {\n",
       "        vertical-align: top;\n",
       "    }\n",
       "\n",
       "    .dataframe thead th {\n",
       "        text-align: right;\n",
       "    }\n",
       "</style>\n",
       "<table border=\"1\" class=\"dataframe\">\n",
       "  <thead>\n",
       "    <tr style=\"text-align: right;\">\n",
       "      <th></th>\n",
       "      <th>id</th>\n",
       "      <th>host_id</th>\n",
       "      <th>latitude</th>\n",
       "      <th>longitude</th>\n",
       "      <th>price</th>\n",
       "      <th>minimum_nights</th>\n",
       "      <th>number_of_reviews</th>\n",
       "      <th>reviews_per_month</th>\n",
       "      <th>calculated_host_listings_count</th>\n",
       "      <th>availability_365</th>\n",
       "    </tr>\n",
       "  </thead>\n",
       "  <tbody>\n",
       "    <tr>\n",
       "      <th>mean</th>\n",
       "      <td>2.792490e+07</td>\n",
       "      <td>1.240278e+08</td>\n",
       "      <td>17.448295</td>\n",
       "      <td>-88.292035</td>\n",
       "      <td>357.102289</td>\n",
       "      <td>2.263948</td>\n",
       "      <td>14.453505</td>\n",
       "      <td>0.538088</td>\n",
       "      <td>22.848355</td>\n",
       "      <td>280.315451</td>\n",
       "    </tr>\n",
       "    <tr>\n",
       "      <th>std</th>\n",
       "      <td>1.288964e+07</td>\n",
       "      <td>1.018001e+08</td>\n",
       "      <td>0.537440</td>\n",
       "      <td>0.383876</td>\n",
       "      <td>563.124825</td>\n",
       "      <td>5.669843</td>\n",
       "      <td>30.327768</td>\n",
       "      <td>0.662154</td>\n",
       "      <td>51.711183</td>\n",
       "      <td>120.617632</td>\n",
       "    </tr>\n",
       "  </tbody>\n",
       "</table>\n",
       "</div>"
      ],
      "text/plain": [
       "                id       host_id   latitude  longitude       price  \\\n",
       "mean  2.792490e+07  1.240278e+08  17.448295 -88.292035  357.102289   \n",
       "std   1.288964e+07  1.018001e+08   0.537440   0.383876  563.124825   \n",
       "\n",
       "      minimum_nights  number_of_reviews  reviews_per_month  \\\n",
       "mean        2.263948          14.453505           0.538088   \n",
       "std         5.669843          30.327768           0.662154   \n",
       "\n",
       "      calculated_host_listings_count  availability_365  \n",
       "mean                       22.848355        280.315451  \n",
       "std                        51.711183        120.617632  "
      ]
     },
     "execution_count": 52,
     "metadata": {},
     "output_type": "execute_result"
    }
   ],
   "source": [
    "belize_df.agg([\"mean\", \"std\"])"
   ]
  }
 ],
 "metadata": {
  "kernelspec": {
   "display_name": "Python 3",
   "language": "python",
   "name": "python3"
  },
  "language_info": {
   "codemirror_mode": {
    "name": "ipython",
    "version": 3
   },
   "file_extension": ".py",
   "mimetype": "text/x-python",
   "name": "python",
   "nbconvert_exporter": "python",
   "pygments_lexer": "ipython3",
   "version": "3.8.3"
  }
 },
 "nbformat": 4,
 "nbformat_minor": 4
}
